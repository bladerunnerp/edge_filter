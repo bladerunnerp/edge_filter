{
 "cells": [
  {
   "cell_type": "code",
   "execution_count": null,
   "id": "aca3888c",
   "metadata": {},
   "outputs": [],
   "source": [
    "import numpy as np\n",
    "import os\n",
    "import PIL\n",
    "import PIL.Image\n",
    "import matplotlib.pyplot as plt\n",
    "\n",
    "import tensorflow as tf\n",
    "from tensorflow import keras\n",
    "from tensorflow.keras import layers\n",
    "\n",
    "from tensorflow.keras.models import Sequential\n",
    "from keras_cv import layers as kcv_layers\n",
    "import cv2"
   ]
  },
  {
   "cell_type": "code",
   "execution_count": null,
   "id": "b64cf6ec",
   "metadata": {},
   "outputs": [],
   "source": [
    "# tf.config.run_functions_eagerly(True)\n",
    "tf.data.experimental.enable_debug_mode()"
   ]
  },
  {
   "cell_type": "code",
   "execution_count": null,
   "id": "f3e0d503",
   "metadata": {},
   "outputs": [],
   "source": [
    "class GaussianKernel(tf.keras.initializers.Initializer):\n",
    "\n",
    "    def _pre_computed(self):\n",
    "        return np.array([[0.01582423, 0.01649751, 0.01672824, 0.01649751, 0.01582423],\n",
    "       [0.01649751, 0.01719942, 0.01743997, 0.01719942, 0.01649751],\n",
    "       [0.01672824, 0.01743997, 0.01768388, 0.01743997, 0.01672824],\n",
    "       [0.01649751, 0.01719942, 0.01743997, 0.01719942, 0.01649751],\n",
    "       [0.01582423, 0.01649751, 0.01672824, 0.01649751, 0.01582423]])\n",
    "    \n",
    "    def __init__(self, shape, sigma=1, in_channels=None):\n",
    "        self.in_channels = in_channels\n",
    "        self.sigma = sigma\n",
    "        self.shape = shape\n",
    "        \n",
    "    def __call__(self, shape, dtype=None):\n",
    "        kernel_weights = self._pre_computed()\n",
    "        if self.in_channels is not None:\n",
    "            kernel_weights = np.expand_dims(kernel_weights, axis=-1)\n",
    "            kernel_weights = np.repeat(kernel_weights, self.in_channels, axis=-1)\n",
    "            kernel_weights = np.expand_dims(kernel_weights, axis=-1) \n",
    "        return tf.constant(kernel_weights, dtype)"
   ]
  },
  {
   "cell_type": "code",
   "execution_count": null,
   "id": "0bc582cc",
   "metadata": {},
   "outputs": [],
   "source": [
    "gaussian = layers.Conv2D(filters=1,kernel_size=(5,5), use_bias=False, padding='same', \n",
    "                        kernel_initializer=GaussianKernel(shape=(5,5), in_channels=3, sigma=3), name=\"gaussian\")"
   ]
  },
  {
   "cell_type": "code",
   "execution_count": null,
   "id": "00f5a488",
   "metadata": {},
   "outputs": [],
   "source": [
    "class LaplacianKernel(tf.keras.initializers.Initializer):\n",
    "    def __init__(self, in_channels=1):\n",
    "        self.kernel = np.array([\n",
    "                \n",
    "                [-1,-1,-1,-1,-1],\n",
    "                [-1,-1,-1,-1,-1],\n",
    "                [-1,-1,24.3,-1,-1],\n",
    "                [-1,-1,-1,-1,-1],\n",
    "                [-1,-1,-1,-1,-1],\n",
    "                \n",
    "        ])\n",
    "        self.in_channels = in_channels\n",
    "        \n",
    "    def __call__(self, shape, dtype=None):\n",
    "        kernel_weights = self.kernel\n",
    "        if self.in_channels is not None:\n",
    "            kernel_weights = np.expand_dims(kernel_weights, axis=-1)\n",
    "            kernel_weights = np.repeat(kernel_weights, self.in_channels, axis=-1)\n",
    "            kernel_weights = np.expand_dims(kernel_weights, axis=-1) \n",
    "        return tf.constant(kernel_weights, dtype)"
   ]
  },
  {
   "cell_type": "code",
   "execution_count": null,
   "id": "4ce0f2c9",
   "metadata": {},
   "outputs": [],
   "source": [
    "laplacian = layers.Conv2D(filters=1, kernel_size=5, use_bias=False, padding='same', \n",
    "                        kernel_initializer=LaplacianKernel(in_channels=1), name=\"laplacian\")"
   ]
  },
  {
   "cell_type": "code",
   "execution_count": null,
   "id": "a571567b",
   "metadata": {},
   "outputs": [],
   "source": [
    "class ThresholdLayer(layers.Layer):\n",
    "    def __init__(self, thresh=None, **kwargs):\n",
    "        super(ThresholdLayer, self).__init__(**kwargs)\n",
    "        self.thresh = thresh\n",
    "        \n",
    "    def _threshold(self, a, thresh=None):\n",
    "        mean = tf.numpy_function(np.mean, [a], a.dtype)\n",
    "        if thresh is not None:\n",
    "            mean = mean * thresh\n",
    "        return tf.where(tf.less(a, tf.zeros_like(a) + mean), tf.zeros_like(a), tf.ones_like(a))\n",
    "    \n",
    "    def __call__(self, inputs):\n",
    "        return self._threshold(inputs, self.thresh)"
   ]
  },
  {
   "cell_type": "code",
   "execution_count": null,
   "id": "129def3c",
   "metadata": {},
   "outputs": [],
   "source": [
    "threshold = ThresholdLayer(thresh=0.02, name=\"threshold\")"
   ]
  },
  {
   "cell_type": "code",
   "execution_count": null,
   "id": "d360e766",
   "metadata": {},
   "outputs": [],
   "source": [
    "frame = cv2.imread('honda.jpg')"
   ]
  },
  {
   "cell_type": "code",
   "execution_count": null,
   "id": "cc5b8062",
   "metadata": {},
   "outputs": [],
   "source": [
    "frame = cv2.resize(frame, (640, 480))\n",
    "# frame = cv2.cvtColor(frame, cv2.COLOR_BGR2GRAY)"
   ]
  },
  {
   "cell_type": "code",
   "execution_count": null,
   "id": "0254c8ea",
   "metadata": {
    "scrolled": true
   },
   "outputs": [],
   "source": [
    "plt.imshow(frame)"
   ]
  },
  {
   "cell_type": "code",
   "execution_count": null,
   "id": "5fccf47a",
   "metadata": {},
   "outputs": [],
   "source": [
    "model = tf.keras.Sequential()\n",
    "model.add(keras.Input(type_spec=tf.TensorSpec((1, 480, 640, 3))))\n",
    "model.add(gaussian)\n",
    "model.add(layers.Rescaling(scale=1./255))\n",
    "model.add(laplacian)\n",
    "model.add(threshold)\n",
    "model.compile()"
   ]
  },
  {
   "cell_type": "code",
   "execution_count": null,
   "id": "56d96a75",
   "metadata": {},
   "outputs": [],
   "source": [
    "frame = np.array([frame])"
   ]
  },
  {
   "cell_type": "code",
   "execution_count": null,
   "id": "5cb0a529",
   "metadata": {
    "scrolled": true
   },
   "outputs": [],
   "source": [
    "frame = model.predict(frame)"
   ]
  },
  {
   "cell_type": "code",
   "execution_count": null,
   "id": "24143ea2",
   "metadata": {},
   "outputs": [],
   "source": [
    "frame.shape"
   ]
  },
  {
   "cell_type": "code",
   "execution_count": null,
   "id": "05d139eb",
   "metadata": {},
   "outputs": [],
   "source": [
    "frame.dtype"
   ]
  },
  {
   "cell_type": "code",
   "execution_count": null,
   "id": "1aaa4c5c",
   "metadata": {},
   "outputs": [],
   "source": [
    "plt.imshow(frame[0,:,:,:])"
   ]
  },
  {
   "cell_type": "code",
   "execution_count": null,
   "id": "01d4ee13",
   "metadata": {},
   "outputs": [],
   "source": [
    "vid = cv2.VideoCapture(1)\n",
    "frame_count = 0\n",
    "while(True):\n",
    "    frame_count += 1\n",
    "    # Capture the video frame\n",
    "    # by frame\n",
    "    ret, frame = vid.read()\n",
    "    frame = cv2.resize(frame, (640, 480))\n",
    "    frame = cv2.flip(frame, 1)\n",
    "    \n",
    "    #the model wants a numpy array of images, we just wrap ours in one\n",
    "    frame = np.array([frame])\n",
    "    \n",
    "    frame = model.predict(frame)\n",
    "    \n",
    "    #the model spits out a numpy array of images, we just strip it\n",
    "    \n",
    "    frame = frame[0,:,:,:]\n",
    "\n",
    "    # Display the resulting frame\n",
    "    cv2.imshow('frame', frame)\n",
    "    \n",
    "    key = cv2.waitKey(1) & 0xFF\n",
    "    # if the q key was pressed, break from the loop\n",
    "        \n",
    "    if key == ord(\"q\"):\n",
    "        break\n",
    "        \n",
    "vid.release()\n",
    "cv2.destroyAllWindows()"
   ]
  }
 ],
 "metadata": {
  "kernelspec": {
   "display_name": "Python 3 (ipykernel)",
   "language": "python",
   "name": "python3"
  },
  "language_info": {
   "codemirror_mode": {
    "name": "ipython",
    "version": 3
   },
   "file_extension": ".py",
   "mimetype": "text/x-python",
   "name": "python",
   "nbconvert_exporter": "python",
   "pygments_lexer": "ipython3",
   "version": "3.9.10"
  },
  "vscode": {
   "interpreter": {
    "hash": "57d879c1bab31ddce3f98747a90aac1ecdf0d747d4f9b6f921c92f41b19b21c9"
   }
  }
 },
 "nbformat": 4,
 "nbformat_minor": 5
}
